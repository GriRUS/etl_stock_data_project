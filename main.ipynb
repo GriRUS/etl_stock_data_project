{
 "cells": [
  {
   "cell_type": "code",
   "execution_count": 1,
   "id": "5bcb0bea-c591-46c2-82dd-a27e8d8aa9c0",
   "metadata": {},
   "outputs": [],
   "source": [
    "import yfinance as yf\n",
    "import numpy as np\n",
    "import pandas as pd\n",
    "from sqlalchemy import (create_engine, MetaData, Table, Column, String, Numeric, Date)\n",
    "from datetime import datetime"
   ]
  },
  {
   "cell_type": "markdown",
   "id": "339be526-503e-4583-95d7-658323313753",
   "metadata": {},
   "source": [
    "# Extract and Transform"
   ]
  },
  {
   "cell_type": "code",
   "execution_count": 2,
   "id": "9a0b80f0-8afe-49dc-852f-13fded5d47c6",
   "metadata": {},
   "outputs": [],
   "source": [
    "firms = [\"KMB\",\"KO\",\"PM\",\"MGNT.ME\",\"FIVE.ME\"]"
   ]
  },
  {
   "cell_type": "code",
   "execution_count": 3,
   "id": "8aae1695-b6c2-454a-a166-4f6fc3b9c090",
   "metadata": {},
   "outputs": [],
   "source": [
    "def stock_price_hist(firms):\n",
    "    \"\"\"Getting history of the stock price in USD\"\"\"\n",
    "    dfs = []\n",
    "    for s in firms:\n",
    "        stocks = yf.Ticker(s)\n",
    "        hist = stocks.history(period=\"5y\")\n",
    "        hist.reset_index(inplace=True)\n",
    "        df = hist.loc[hist.Date >= \"2018-01-01\",[\"Date\",\"Close\",\"Dividends\"]]\n",
    "        df[\"Stock\"] = s\n",
    "        dfs.append(df)\n",
    "        all_firms = pd.concat(dfs)\n",
    "        all_firms.reset_index(inplace=True, drop=True)\n",
    "        mask1 = all_firms.Stock.str.lower().str.contains(\".me\")\n",
    "        all_firms.loc[mask1,\"Close\"] = all_firms[\"Close\"] / 70\n",
    "        mask2 = all_firms.Stock.str.lower().str.contains(\"mgnt\")\n",
    "        all_firms.loc[mask2,[\"Dividends\"]] = (all_firms[\"Dividends\"] / 70)\n",
    "    return all_firms"
   ]
  },
  {
   "cell_type": "code",
   "execution_count": 4,
   "id": "24a30230-d4ce-48ef-bc83-e691f7efd653",
   "metadata": {
    "tags": []
   },
   "outputs": [],
   "source": [
    "df = stock_price_hist(firms)"
   ]
  },
  {
   "cell_type": "code",
   "execution_count": 5,
   "id": "269801ea-912b-42ab-8189-14117dad52e7",
   "metadata": {
    "tags": []
   },
   "outputs": [],
   "source": [
    "def financial_indicators(firms):\n",
    "    \"\"\"Getting info on Total Revenue, Net Income, Cash flow etc.\"\"\"\n",
    "    dfs = []\n",
    "    for s in firms:\n",
    "        stocks = yf.Ticker(s)\n",
    "        f = stocks.financials\n",
    "        finance = f.loc[[\"Total Revenue\",\"Net Income\"],:].copy()\n",
    "        b = stocks.balance_sheet\n",
    "        balance = b.loc[[\"Cash\",\"Total Assets\",\"Short Long Term Debt\",\"Long Term Debt\"],:].copy()\n",
    "        c = stocks.cashflow\n",
    "        cashflow = c.loc[[\"Capital Expenditures\"],:].copy()\n",
    "        df = pd.concat([finance,balance,cashflow])\n",
    "        dft = df.T\n",
    "        dft[\"Stock\"] = s\n",
    "        dfs.append(dft)\n",
    "        mixed_firms = pd.concat(dfs)\n",
    "        mixed_firms.reset_index(inplace=True)\n",
    "        mixed_firms[\"Date\"] = mixed_firms.iloc[:,0]\n",
    "        mixed_firms.drop(mixed_firms.columns[0], axis=1, inplace=True)\n",
    "        df_us = mixed_firms.loc[~mixed_firms.Stock.str.lower().str.contains(\".me\")].copy()\n",
    "        df_rus = mixed_firms.loc[mixed_firms.Stock.str.lower().str.contains(\".me\")].copy()\n",
    "        mask = df_rus.iloc[:,1:5]\n",
    "        df_rus.iloc[:,1:5] = mask / 70\n",
    "        df_all = pd.concat([df_us, df_rus])\n",
    "    return df_all"
   ]
  },
  {
   "cell_type": "code",
   "execution_count": 6,
   "id": "ff418ecd-debd-4b15-ae2b-60286628c072",
   "metadata": {},
   "outputs": [],
   "source": [
    "df1 = financial_indicators(firms)"
   ]
  },
  {
   "cell_type": "code",
   "execution_count": 7,
   "id": "98bb08c5-a7d1-4a95-84ac-b063cbc7abb6",
   "metadata": {},
   "outputs": [],
   "source": [
    "df.rename(columns={\n",
    "                    \"Date\":\"date\",\n",
    "                    \"Close\":\"close\",\n",
    "                    \"Dividends\":\"dividends\",\n",
    "                    \"Stock\":\"stock\"}, inplace=True)\n",
    "\n",
    "df1.rename(columns={\"Total Revenue\":\"total_rev\",\n",
    "                    \"Net Income\":\"n_income\",\n",
    "                    \"Cash\":\"cash\",\n",
    "                    \"Total Assets\":\"assets\",\n",
    "                    \"Short Long Term Debt\":\"s_l_t_dept\",\n",
    "                    \"Long Term Debt\":\"l_t_dept\",\n",
    "                    \"Capital Expenditures\":\"cap_expend\",\n",
    "                    \"Stock\":\"stock\",\n",
    "                    \"Date\":\"date\"}, inplace=True)"
   ]
  },
  {
   "cell_type": "markdown",
   "id": "ee7500e5-fc58-4da0-b9bc-81545c9c4d23",
   "metadata": {},
   "source": [
    "# Load"
   ]
  },
  {
   "cell_type": "code",
   "execution_count": 8,
   "id": "feaaeead-11bf-4e8e-9e7f-7a1b0b02bd9f",
   "metadata": {},
   "outputs": [],
   "source": [
    "meta_data = MetaData(schema=\"dashboarding\")\n",
    "db_connection = 'postgresql://postgres:<PASSWORD>@localhost:5432/postgres'"
   ]
  },
  {
   "cell_type": "code",
   "execution_count": 9,
   "id": "73024e9b-c156-4b9a-86c0-176d51dfd1b9",
   "metadata": {},
   "outputs": [],
   "source": [
    "stock_price_hist = Table('stock_price_hist',meta_data,\n",
    "                        Column('date', Date,nullable=False),\n",
    "                        Column('close', Numeric(),nullable=False),\n",
    "                        Column('dividends', Numeric(),nullable=False),\n",
    "                        Column('stock', String(20),nullable=False)\n",
    "                        )\n",
    "\n",
    "\n",
    "financial_indicators = Table('financial_indicators',meta_data,\n",
    "                        Column('total_rev', Numeric(),nullable=True),\n",
    "                        Column('n_income', Numeric(),nullable=True),\n",
    "                        Column('cash', Numeric(),nullable=True),\n",
    "                        Column('assets', Numeric(),nullable=True),\n",
    "                        Column('s_l_t_dept', Numeric(),nullable=True),\n",
    "                        Column('l_t_dept', Numeric(),nullable=True),\n",
    "                        Column('cap_expend', Numeric(),nullable=True),\n",
    "                        Column('stock', String(20),nullable=True),\n",
    "                        Column('date', Date,nullable=True)\n",
    "                        )"
   ]
  },
  {
   "cell_type": "code",
   "execution_count": 10,
   "id": "7683485d-4a73-465d-b665-554318e59fee",
   "metadata": {},
   "outputs": [
    {
     "name": "stdout",
     "output_type": "stream",
     "text": [
      "db connected\n",
      "connection object is :<sqlalchemy.engine.base.Connection object at 0x7fdba267ed30>\n"
     ]
    }
   ],
   "source": [
    "engine = create_engine(db_connection)\n",
    "\n",
    "try:\n",
    "  conn = engine.connect()\n",
    "  print('db connected')\n",
    "  print('connection object is :{}'.format(conn))\n",
    "except: \n",
    "  print('db not connected')\n",
    "\n",
    "meta_data.create_all(engine)"
   ]
  },
  {
   "cell_type": "code",
   "execution_count": 11,
   "id": "549468b2-5c2b-41ff-8e27-a8e297814d2a",
   "metadata": {},
   "outputs": [
    {
     "name": "stdout",
     "output_type": "stream",
     "text": [
      "Data is successfully loaded\n"
     ]
    }
   ],
   "source": [
    "try:    \n",
    "    df1.to_sql('financial_indicators', con=engine, index=False, if_exists='append', schema='dashboarding', method='multi')\n",
    "    print(\"Data is successfully loaded\")\n",
    "except:\n",
    "    print(\"Data cannot be loaded\")"
   ]
  },
  {
   "cell_type": "code",
   "execution_count": 12,
   "id": "5b93b308-567f-4b86-bcff-3a64339c765d",
   "metadata": {},
   "outputs": [
    {
     "name": "stdout",
     "output_type": "stream",
     "text": [
      "Data is successfully loaded\n"
     ]
    }
   ],
   "source": [
    "try:    \n",
    "    df.to_sql('stock_price_hist', con=engine, index=False, if_exists='append', schema='dashboarding',method='multi')\n",
    "    print(\"Data is successfully loaded\")\n",
    "except:\n",
    "    print(\"Data cannot be loaded\")"
   ]
  },
  {
   "cell_type": "code",
   "execution_count": null,
   "id": "f3bd1e82-0ca9-4cf9-9c5c-2365816f915c",
   "metadata": {},
   "outputs": [],
   "source": []
  }
 ],
 "metadata": {
  "kernelspec": {
   "display_name": "Python 3",
   "language": "python",
   "name": "python3"
  },
  "language_info": {
   "codemirror_mode": {
    "name": "ipython",
    "version": 3
   },
   "file_extension": ".py",
   "mimetype": "text/x-python",
   "name": "python",
   "nbconvert_exporter": "python",
   "pygments_lexer": "ipython3",
   "version": "3.8.8"
  }
 },
 "nbformat": 4,
 "nbformat_minor": 5
}
